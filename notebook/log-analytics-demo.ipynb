{
 "cells": [
  {
   "cell_type": "code",
   "execution_count": null,
   "metadata": {},
   "outputs": [],
   "source": [
    "import scala.util.matching.Regex\n",
    "import org.apache.spark.sql.SparkSession\n",
    "import org.apache.spark.SparkConf\n",
    "import org.apache.spark.sql._\n",
    "import org.apache.spark.sql.functions._"
   ]
  },
  {
   "cell_type": "markdown",
   "metadata": {},
   "source": [
    "## Connect to Spark"
   ]
  },
  {
   "cell_type": "code",
   "execution_count": null,
   "metadata": {
    "scrolled": true
   },
   "outputs": [],
   "source": [
    "val conf = new SparkConf().setAppName(\"LogAnalyzer\").setMaster(\"spark://ea7571ae308d:7077\")\n",
    "val spark = SparkSession.builder().config(conf).getOrCreate();"
   ]
  },
  {
   "cell_type": "markdown",
   "metadata": {},
   "source": [
    "## Read Data"
   ]
  },
  {
   "cell_type": "code",
   "execution_count": null,
   "metadata": {},
   "outputs": [],
   "source": [
    "val logs = spark.sparkContext.textFile(\"../data/sample.log\")"
   ]
  },
  {
   "cell_type": "code",
   "execution_count": null,
   "metadata": {},
   "outputs": [],
   "source": [
    "logs.take(5).foreach(println)"
   ]
  },
  {
   "cell_type": "markdown",
   "metadata": {},
   "source": [
    "## Convert data to a structured format"
   ]
  },
  {
   "cell_type": "code",
   "execution_count": null,
   "metadata": {},
   "outputs": [],
   "source": [
    "case class ServerLog(host: String, timestamp: String, url: String, code: String, bytes: Long)\n",
    "object ServerLog {\n",
    "\n",
    "  private val REGEX_PATTERN = \"\"\"^(\\S+) - - \\[(.*?)\\] \"(.*?)\" (\\d{3}) (\\S+)\"\"\".r\n",
    "\n",
    "  def parseLine(line: String): Either[String, ServerLog] = {\n",
    "    line match {\n",
    "      case REGEX_PATTERN(host, ts, req, code, b) =>\n",
    "        val url = parseRequest(req)\n",
    "        val bytes = toLong(b)\n",
    "        Right(ServerLog(host, ts, url.getOrElse(req), code, bytes.getOrElse(0)))\n",
    "      case _ => Left(line)\n",
    "    }\n",
    "  }\n",
    "\n",
    "  private def parseRequest(url: String): Option[String] = {\n",
    "    val i = url.indexOf(\"/\")\n",
    "    if (i > -1) {\n",
    "      val subs = url.slice(i, url.length)\n",
    "      return Some(subs.split(\" \").head)\n",
    "    }\n",
    "    return None\n",
    "  }\n",
    "\n",
    "  private def toLong(b: String): Option[Long] = {\n",
    "    try {\n",
    "      Some(b.toLong)\n",
    "    } catch {\n",
    "      case e: NumberFormatException => None\n",
    "    }\n",
    "  }\n",
    "}"
   ]
  },
  {
   "cell_type": "code",
   "execution_count": null,
   "metadata": {},
   "outputs": [],
   "source": [
    "val parsedLines = logs.map(ServerLog.parseLine _)"
   ]
  },
  {
   "cell_type": "code",
   "execution_count": null,
   "metadata": {},
   "outputs": [],
   "source": [
    "// Filter only successfully parsed lines\n",
    "val serverLogs = parsedLines.filter(_.isRight).map(_.right.get)"
   ]
  },
  {
   "cell_type": "code",
   "execution_count": null,
   "metadata": {},
   "outputs": [],
   "source": [
    "val dataDS = serverLogs.toDS()"
   ]
  },
  {
   "cell_type": "code",
   "execution_count": null,
   "metadata": {},
   "outputs": [],
   "source": [
    "dataDS.cache()"
   ]
  },
  {
   "cell_type": "code",
   "execution_count": null,
   "metadata": {},
   "outputs": [],
   "source": [
    "dataDS.take(5).foreach(println)"
   ]
  },
  {
   "cell_type": "markdown",
   "metadata": {},
   "source": [
    "## DATASET API"
   ]
  },
  {
   "cell_type": "code",
   "execution_count": null,
   "metadata": {},
   "outputs": [],
   "source": [
    "dataDS.show(5)"
   ]
  },
  {
   "cell_type": "markdown",
   "metadata": {},
   "source": [
    "#### Distinct values"
   ]
  },
  {
   "cell_type": "code",
   "execution_count": null,
   "metadata": {},
   "outputs": [],
   "source": [
    "dataDS.select(\"code\").distinct.show()"
   ]
  },
  {
   "cell_type": "code",
   "execution_count": null,
   "metadata": {
    "scrolled": true
   },
   "outputs": [],
   "source": [
    "dataDS.selectExpr(\"count(distinct(host)) as unique_hosts\").show()"
   ]
  },
  {
   "cell_type": "markdown",
   "metadata": {},
   "source": [
    "#### Value Comparisons"
   ]
  },
  {
   "cell_type": "code",
   "execution_count": null,
   "metadata": {},
   "outputs": [],
   "source": [
    "dataDS.select(\"code\", \"url\").where(\"code > 400\").show(5)"
   ]
  },
  {
   "cell_type": "markdown",
   "metadata": {},
   "source": [
    "#### Aggregation"
   ]
  },
  {
   "cell_type": "code",
   "execution_count": null,
   "metadata": {},
   "outputs": [],
   "source": [
    "dataDS.groupBy(\"code\", \"url\").count().show()"
   ]
  },
  {
   "cell_type": "markdown",
   "metadata": {},
   "source": [
    "## SQL "
   ]
  },
  {
   "cell_type": "code",
   "execution_count": null,
   "metadata": {},
   "outputs": [],
   "source": [
    "dataDS.createTempView(\"logs\")"
   ]
  },
  {
   "cell_type": "code",
   "execution_count": null,
   "metadata": {},
   "outputs": [],
   "source": [
    "spark.sql(\"select timestamp from logs limit 5\").show()"
   ]
  },
  {
   "cell_type": "markdown",
   "metadata": {},
   "source": [
    "#### TOP 4 URL's with NOT FOUND status"
   ]
  },
  {
   "cell_type": "code",
   "execution_count": null,
   "metadata": {},
   "outputs": [],
   "source": [
    "spark.sql(\"\"\"SELECT url, count(*) AS count \n",
    "           FROM logs \n",
    "           WHERE code == 404 \n",
    "           GROUP BY url \n",
    "           ORDER BY count DESC \n",
    "           LIMIT 4\"\"\").show()"
   ]
  },
  {
   "cell_type": "markdown",
   "metadata": {},
   "source": [
    "## Compress to Parquet: DataWarehouse"
   ]
  },
  {
   "cell_type": "code",
   "execution_count": null,
   "metadata": {},
   "outputs": [],
   "source": [
    "val datetime = to_timestamp($\"timestamp\", \"dd/MMM/yyyy:HH:mm:ss Z\")"
   ]
  },
  {
   "cell_type": "code",
   "execution_count": null,
   "metadata": {},
   "outputs": [],
   "source": [
    "val exportDS = dataDS\n",
    "                .withColumn(\"year\", year(datetime))\n",
    "                .withColumn(\"month\", month(datetime))\n",
    "                .withColumn(\"day\", dayofmonth(datetime))"
   ]
  },
  {
   "cell_type": "code",
   "execution_count": null,
   "metadata": {},
   "outputs": [],
   "source": [
    "exportDS\n",
    "    .write.mode(\"overwrite\")\n",
    "    .partitionBy(\"year\", \"month\", \"day\")\n",
    "    .parquet(\"../data/output/\")"
   ]
  }
 ],
 "metadata": {
  "kernelspec": {
   "display_name": "Apache Toree - Scala",
   "language": "scala",
   "name": "apache_toree_scala"
  },
  "language_info": {
   "codemirror_mode": "text/x-scala",
   "file_extension": ".scala",
   "mimetype": "text/x-scala",
   "name": "scala",
   "pygments_lexer": "scala",
   "version": "2.11.8"
  }
 },
 "nbformat": 4,
 "nbformat_minor": 2
}
